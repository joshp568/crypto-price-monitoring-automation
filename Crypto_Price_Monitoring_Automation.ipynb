{
 "cells": [
  {
   "cell_type": "code",
   "execution_count": 1,
   "id": "aa849833-df5a-4477-a064-401e952ac309",
   "metadata": {},
   "outputs": [
    {
     "name": "stdout",
     "output_type": "stream",
     "text": [
      "Requirement already satisfied: requests in c:\\users\\joshua pratheek\\anaconda3\\lib\\site-packages (2.32.3)\n",
      "Requirement already satisfied: pandas in c:\\users\\joshua pratheek\\anaconda3\\lib\\site-packages (2.2.3)\n",
      "Requirement already satisfied: openpyxl in c:\\users\\joshua pratheek\\anaconda3\\lib\\site-packages (3.1.5)\n",
      "Requirement already satisfied: matplotlib in c:\\users\\joshua pratheek\\anaconda3\\lib\\site-packages (3.10.0)\n",
      "Requirement already satisfied: charset-normalizer<4,>=2 in c:\\users\\joshua pratheek\\anaconda3\\lib\\site-packages (from requests) (3.3.2)\n",
      "Requirement already satisfied: idna<4,>=2.5 in c:\\users\\joshua pratheek\\anaconda3\\lib\\site-packages (from requests) (3.7)\n",
      "Requirement already satisfied: urllib3<3,>=1.21.1 in c:\\users\\joshua pratheek\\anaconda3\\lib\\site-packages (from requests) (2.3.0)\n",
      "Requirement already satisfied: certifi>=2017.4.17 in c:\\users\\joshua pratheek\\anaconda3\\lib\\site-packages (from requests) (2025.4.26)\n",
      "Requirement already satisfied: numpy>=1.26.0 in c:\\users\\joshua pratheek\\anaconda3\\lib\\site-packages (from pandas) (2.1.3)\n",
      "Requirement already satisfied: python-dateutil>=2.8.2 in c:\\users\\joshua pratheek\\anaconda3\\lib\\site-packages (from pandas) (2.9.0.post0)\n",
      "Requirement already satisfied: pytz>=2020.1 in c:\\users\\joshua pratheek\\anaconda3\\lib\\site-packages (from pandas) (2024.1)\n",
      "Requirement already satisfied: tzdata>=2022.7 in c:\\users\\joshua pratheek\\anaconda3\\lib\\site-packages (from pandas) (2025.2)\n",
      "Requirement already satisfied: et-xmlfile in c:\\users\\joshua pratheek\\anaconda3\\lib\\site-packages (from openpyxl) (1.1.0)\n",
      "Requirement already satisfied: contourpy>=1.0.1 in c:\\users\\joshua pratheek\\anaconda3\\lib\\site-packages (from matplotlib) (1.3.1)\n",
      "Requirement already satisfied: cycler>=0.10 in c:\\users\\joshua pratheek\\anaconda3\\lib\\site-packages (from matplotlib) (0.11.0)\n",
      "Requirement already satisfied: fonttools>=4.22.0 in c:\\users\\joshua pratheek\\anaconda3\\lib\\site-packages (from matplotlib) (4.55.3)\n",
      "Requirement already satisfied: kiwisolver>=1.3.1 in c:\\users\\joshua pratheek\\anaconda3\\lib\\site-packages (from matplotlib) (1.4.8)\n",
      "Requirement already satisfied: packaging>=20.0 in c:\\users\\joshua pratheek\\anaconda3\\lib\\site-packages (from matplotlib) (24.2)\n",
      "Requirement already satisfied: pillow>=8 in c:\\users\\joshua pratheek\\anaconda3\\lib\\site-packages (from matplotlib) (11.1.0)\n",
      "Requirement already satisfied: pyparsing>=2.3.1 in c:\\users\\joshua pratheek\\anaconda3\\lib\\site-packages (from matplotlib) (3.2.0)\n",
      "Requirement already satisfied: six>=1.5 in c:\\users\\joshua pratheek\\anaconda3\\lib\\site-packages (from python-dateutil>=2.8.2->pandas) (1.17.0)\n"
     ]
    }
   ],
   "source": [
    "!pip install requests pandas openpyxl matplotlib\n"
   ]
  },
  {
   "cell_type": "code",
   "execution_count": 2,
   "id": "a1afe8a8-e702-41a4-8669-7413acd1a4aa",
   "metadata": {},
   "outputs": [],
   "source": [
    "import requests\n",
    "import pandas as pd\n",
    "import matplotlib.pyplot as plt\n",
    "from datetime import datetime\n"
   ]
  },
  {
   "cell_type": "code",
   "execution_count": 11,
   "id": "d3dde3f9-7969-43a8-af1a-e14d9ee084de",
   "metadata": {},
   "outputs": [
    {
     "data": {
      "text/plain": [
       "{'id': 'bitcoin',\n",
       " 'symbol': 'btc',\n",
       " 'name': 'Bitcoin',\n",
       " 'image': 'https://coin-images.coingecko.com/coins/images/1/large/bitcoin.png?1696501400',\n",
       " 'current_price': 118933,\n",
       " 'market_cap': 2366634142314,\n",
       " 'market_cap_rank': 1,\n",
       " 'fully_diluted_valuation': 2366634142314,\n",
       " 'total_volume': 44795598676,\n",
       " 'high_24h': 119026,\n",
       " 'low_24h': 117498,\n",
       " 'price_change_24h': 25.69,\n",
       " 'price_change_percentage_24h': 0.0216,\n",
       " 'market_cap_change_24h': 201028363,\n",
       " 'market_cap_change_percentage_24h': 0.00849,\n",
       " 'circulating_supply': 19898915.0,\n",
       " 'total_supply': 19898915.0,\n",
       " 'max_supply': 21000000.0,\n",
       " 'ath': 122838,\n",
       " 'ath_change_percentage': -3.26638,\n",
       " 'ath_date': '2025-07-14T07:56:01.937Z',\n",
       " 'atl': 67.81,\n",
       " 'atl_change_percentage': 175135.77154,\n",
       " 'atl_date': '2013-07-06T00:00:00.000Z',\n",
       " 'roi': None,\n",
       " 'last_updated': '2025-07-29T08:00:13.586Z'}"
      ]
     },
     "execution_count": 11,
     "metadata": {},
     "output_type": "execute_result"
    }
   ],
   "source": [
    "url = \"https://api.coingecko.com/api/v3/coins/markets\"\n",
    "params = {\n",
    "    'vs_currency': 'usd',\n",
    "    'order': 'market_cap_desc',\n",
    "    'per_page': 10,\n",
    "    'page': 1,\n",
    "    'sparkline': 'false'\n",
    "}\n",
    "\n",
    "response = requests.get(url, params=params)\n",
    "data = response.json()\n",
    "\n",
    "# Preview the first item\n",
    "data[0]\n"
   ]
  },
  {
   "cell_type": "code",
   "execution_count": 12,
   "id": "cd3c9bd3-30e7-4ddd-affc-6a1624a6d214",
   "metadata": {},
   "outputs": [
    {
     "data": {
      "text/html": [
       "<div>\n",
       "<style scoped>\n",
       "    .dataframe tbody tr th:only-of-type {\n",
       "        vertical-align: middle;\n",
       "    }\n",
       "\n",
       "    .dataframe tbody tr th {\n",
       "        vertical-align: top;\n",
       "    }\n",
       "\n",
       "    .dataframe thead th {\n",
       "        text-align: right;\n",
       "    }\n",
       "</style>\n",
       "<table border=\"1\" class=\"dataframe\">\n",
       "  <thead>\n",
       "    <tr style=\"text-align: right;\">\n",
       "      <th></th>\n",
       "      <th>id</th>\n",
       "      <th>symbol</th>\n",
       "      <th>name</th>\n",
       "      <th>current_price</th>\n",
       "      <th>market_cap</th>\n",
       "      <th>total_volume</th>\n",
       "      <th>price_change_percentage_24h</th>\n",
       "      <th>timestamp</th>\n",
       "    </tr>\n",
       "  </thead>\n",
       "  <tbody>\n",
       "    <tr>\n",
       "      <th>0</th>\n",
       "      <td>bitcoin</td>\n",
       "      <td>btc</td>\n",
       "      <td>Bitcoin</td>\n",
       "      <td>118933.000000</td>\n",
       "      <td>2366634142314</td>\n",
       "      <td>44795598676</td>\n",
       "      <td>0.02160</td>\n",
       "      <td>2025-07-29 13:31:22.306242</td>\n",
       "    </tr>\n",
       "    <tr>\n",
       "      <th>1</th>\n",
       "      <td>ethereum</td>\n",
       "      <td>eth</td>\n",
       "      <td>Ethereum</td>\n",
       "      <td>3874.270000</td>\n",
       "      <td>467666188209</td>\n",
       "      <td>34187822937</td>\n",
       "      <td>-0.41828</td>\n",
       "      <td>2025-07-29 13:31:22.306242</td>\n",
       "    </tr>\n",
       "    <tr>\n",
       "      <th>2</th>\n",
       "      <td>ripple</td>\n",
       "      <td>xrp</td>\n",
       "      <td>XRP</td>\n",
       "      <td>3.170000</td>\n",
       "      <td>188017600993</td>\n",
       "      <td>6404954462</td>\n",
       "      <td>-3.08179</td>\n",
       "      <td>2025-07-29 13:31:22.306242</td>\n",
       "    </tr>\n",
       "    <tr>\n",
       "      <th>3</th>\n",
       "      <td>tether</td>\n",
       "      <td>usdt</td>\n",
       "      <td>Tether</td>\n",
       "      <td>0.999947</td>\n",
       "      <td>163648933611</td>\n",
       "      <td>106030323975</td>\n",
       "      <td>-0.01088</td>\n",
       "      <td>2025-07-29 13:31:22.306242</td>\n",
       "    </tr>\n",
       "    <tr>\n",
       "      <th>4</th>\n",
       "      <td>binancecoin</td>\n",
       "      <td>bnb</td>\n",
       "      <td>BNB</td>\n",
       "      <td>827.720000</td>\n",
       "      <td>115292212751</td>\n",
       "      <td>2650069951</td>\n",
       "      <td>-3.07860</td>\n",
       "      <td>2025-07-29 13:31:22.306242</td>\n",
       "    </tr>\n",
       "  </tbody>\n",
       "</table>\n",
       "</div>"
      ],
      "text/plain": [
       "            id symbol      name  current_price     market_cap  total_volume  \\\n",
       "0      bitcoin    btc   Bitcoin  118933.000000  2366634142314   44795598676   \n",
       "1     ethereum    eth  Ethereum    3874.270000   467666188209   34187822937   \n",
       "2       ripple    xrp       XRP       3.170000   188017600993    6404954462   \n",
       "3       tether   usdt    Tether       0.999947   163648933611  106030323975   \n",
       "4  binancecoin    bnb       BNB     827.720000   115292212751    2650069951   \n",
       "\n",
       "   price_change_percentage_24h                  timestamp  \n",
       "0                      0.02160 2025-07-29 13:31:22.306242  \n",
       "1                     -0.41828 2025-07-29 13:31:22.306242  \n",
       "2                     -3.08179 2025-07-29 13:31:22.306242  \n",
       "3                     -0.01088 2025-07-29 13:31:22.306242  \n",
       "4                     -3.07860 2025-07-29 13:31:22.306242  "
      ]
     },
     "execution_count": 12,
     "metadata": {},
     "output_type": "execute_result"
    }
   ],
   "source": [
    "df = pd.DataFrame(data)\n",
    "\n",
    "# Let's keep only the most important columns\n",
    "df = df[[\n",
    "    'id',\n",
    "    'symbol',\n",
    "    'name',\n",
    "    'current_price',\n",
    "    'market_cap',\n",
    "    'total_volume',\n",
    "    'price_change_percentage_24h'\n",
    "]]\n",
    "\n",
    "# Add a timestamp for when this data was pulled\n",
    "df['timestamp'] = datetime.now()\n",
    "\n",
    "df.head()\n"
   ]
  },
  {
   "cell_type": "code",
   "execution_count": 13,
   "id": "bbd4a6b9-e7b3-4308-a399-22f6c51d391b",
   "metadata": {},
   "outputs": [
    {
     "name": "stdout",
     "output_type": "stream",
     "text": [
      "✅ Data saved to crypto_data.xlsx\n"
     ]
    }
   ],
   "source": [
    "output_path = \"crypto_data.xlsx\"\n",
    "df.to_excel(output_path, index=False)\n",
    "\n",
    "print(f\"✅ Data saved to {output_path}\")\n"
   ]
  },
  {
   "cell_type": "code",
   "execution_count": 14,
   "id": "26074664-1102-4843-9689-0e8d0e12e6d0",
   "metadata": {},
   "outputs": [
    {
     "data": {
      "image/png": "[encoded data removed]",
      "text/plain": [
       "<Figure size 1000x600 with 1 Axes>"
      ]
     },
     "metadata": {},
     "output_type": "display_data"
    }
   ],
   "source": [
    "plt.figure(figsize=(10, 6))\n",
    "plt.barh(df['name'], df['price_change_percentage_24h'], color='skyblue')\n",
    "plt.xlabel('% Price Change (24h)')\n",
    "plt.title('24h Price Change of Top 10 Cryptos')\n",
    "plt.grid(axis='x', linestyle='--', alpha=0.7)\n",
    "plt.tight_layout()\n",
    "plt.show()\n"
   ]
  },
  {
   "cell_type": "code",
   "execution_count": null,
   "id": "19a0b71e-5301-41ad-a4e7-2498bee03655",
   "metadata": {},
   "outputs": [],
   "source": []
  },
  {
   "cell_type": "code",
   "execution_count": null,
   "id": "e9e565b0-1c6a-48ab-92ff-db70d97a4ae6",
   "metadata": {},
   "outputs": [],
   "source": []
  }
 ],
 "metadata": {
  "kernelspec": {
   "display_name": "Python 3 (ipykernel)",
   "language": "python",
   "name": "python3"
  },
  "language_info": {
   "codemirror_mode": {
    "name": "ipython",
    "version": 3
   },
   "file_extension": ".py",
   "mimetype": "text/x-python",
   "name": "python",
   "nbconvert_exporter": "python",
   "pygments_lexer": "ipython3",
   "version": "3.13.5"
  }
 },
 "nbformat": 4,
 "nbformat_minor": 5
}
